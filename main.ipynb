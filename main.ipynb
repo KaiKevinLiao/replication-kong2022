{
 "cells": [
  {
   "cell_type": "markdown",
   "metadata": {},
   "source": [
    "## Introduction\n",
    "\n",
    "This project replicates the counterfactual part of Multidimensional Auctions of Contracts: An Empirical Analysis by Yunmi Kong, Isabelle Perrigne, and Quang Vuong published in American Economics Review in 2022. This paper analyzes cash-royalty auctions of Louisiana oil leases. In this auction, the bidders bid for a one-time cash payment and royalty (the proportion of revenues they will pay the government afterward). The winner of the auction has the right of drilling, but it is not compulsory. They model this auction as a private value auction in which each bidder draws a private productivity level $\\theta_1$ and a private cost $\\theta_2$ of drilling $ from a joint distribution. The private value also depends on the oil price, which is modeled as a geometric Brownian motion. I will include more details of their auction model in this notebook.\n",
    "\n",
    "This paper estimates the joint distribution of $\\theta_1$ and $\\theta_2$ non-parametrically and analyzes counterfactuals based on that. However, in my replication, I skip the estimation part and do the counterfactual only. First, I simulate $\\theta_1$ and $\\theta_2$ and compute the private values and bids for each firm. Then, I simulate the expected revenues of the government under different scenarios as follows.\n",
    "1. The auction has flexible royalty.\n",
    "2. The auctions have fixed royalty.\n",
    "3. The government has different rules for selecting the winner.\n",
    "4. The oil price increases.\n"
   ]
  },
  {
   "cell_type": "markdown",
   "metadata": {},
   "source": []
  },
  {
   "cell_type": "code",
   "execution_count": 1,
   "metadata": {},
   "outputs": [],
   "source": [
    "import numpy as np\n",
    "\n"
   ]
  },
  {
   "cell_type": "code",
   "execution_count": null,
   "metadata": {},
   "outputs": [],
   "source": []
  }
 ],
 "metadata": {
  "kernelspec": {
   "display_name": "Python 3.8.13",
   "language": "python",
   "name": "python3"
  },
  "language_info": {
   "codemirror_mode": {
    "name": "ipython",
    "version": 3
   },
   "file_extension": ".py",
   "mimetype": "text/x-python",
   "name": "python",
   "nbconvert_exporter": "python",
   "pygments_lexer": "ipython3",
   "version": "3.8.13"
  },
  "orig_nbformat": 4,
  "vscode": {
   "interpreter": {
    "hash": "226f6524a35c64f952856ef2fb56a54e16ee5f9c703fa0b8780e11eeea521302"
   }
  }
 },
 "nbformat": 4,
 "nbformat_minor": 2
}
