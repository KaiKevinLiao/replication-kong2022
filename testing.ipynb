{
 "cells": [
  {
   "cell_type": "code",
   "execution_count": 203,
   "metadata": {},
   "outputs": [],
   "source": [
    "import autograd.numpy as np  # Thinly-wrapped numpy\n",
    "from autograd import grad    # The only autograd function you may ever need\n",
    "from autograd.scipy.stats import norm, chi2\n",
    "import matplotlib.pyplot as plt\n",
    "\n",
    "\n",
    "theta1 = 0.5\n",
    "theta2 = 10\n",
    "r = 0.05\n",
    "t = 3\n",
    "p = 100\n",
    "sigma=0.5\n",
    "\n",
    "\n",
    "def v(a):\n",
    "    x = (np.log((1-a) * p * theta1/theta2) + sigma**2 * t / 2) / (sigma * np.sqrt(t))\n",
    "    v = np.exp(-r*t) * ( (1-a)*p*theta1*norm.cdf(x) + sigma**2 * t / 2 - theta2*norm.cdf(x - sigma * np.sqrt(t)))\n",
    "    return v\n",
    "grad_v = grad(v)"
   ]
  },
  {
   "cell_type": "code",
   "execution_count": 204,
   "metadata": {},
   "outputs": [
    {
     "data": {
      "text/plain": [
       "[<matplotlib.lines.Line2D at 0x7f7a28f0f0d0>]"
      ]
     },
     "execution_count": 204,
     "metadata": {},
     "output_type": "execute_result"
    },
    {
     "data": {
      "image/png": "[encoded data removed]",
      "text/plain": [
       "<Figure size 432x288 with 1 Axes>"
      ]
     },
     "metadata": {
      "needs_background": "light"
     },
     "output_type": "display_data"
    }
   ],
   "source": [
    "agrids = np.arange(0, 1, 0.01)\n",
    "values = [grad_v(a) for a in agrids]\n",
    "plt.title('First order derivative on royalty of a bidder\\'s value for the contract')\n",
    "\n",
    "plt.xlabel('Royalty')\n",
    "plt.ylabel('Value')\n",
    "plt.plot(agrids, values)"
   ]
  },
  {
   "cell_type": "code",
   "execution_count": 272,
   "metadata": {},
   "outputs": [],
   "source": [
    "def prob(bid):\n",
    "    a = bid[0]\n",
    "    b = bid[1]\n",
    "    return chi2.cdf(a + 10*np.log(b) - 10*np.log(theta2/theta1), 1)\n",
    "\n",
    "grad_prob = grad(prob)\n",
    "\n",
    "def objfun(bid):\n",
    "    return (grad_prob(np.array([bid[0], bid[1]]))[0] / grad_prob(np.array([bid[0], bid[1]]))[1] - grad_v(bid[0]),\n",
    "            )    \n",
    "\n",
    "    "
   ]
  },
  {
   "cell_type": "code",
   "execution_count": 271,
   "metadata": {},
   "outputs": [],
   "source": [
    "from scipy.optimize import fsolve\n",
    "\n",
    "root = fsolve(prob, [1, 1])\n",
    "\n"
   ]
  },
  {
   "cell_type": "code",
   "execution_count": 297,
   "metadata": {},
   "outputs": [
    {
     "data": {
      "text/plain": [
       "30.69375640149627"
      ]
     },
     "execution_count": 297,
     "metadata": {},
     "output_type": "execute_result"
    }
   ],
   "source": [
    "theta1 = 0.5\n",
    "theta2 = 10\n",
    "\n",
    "a = 0.1\n",
    "b = 13.0\n",
    "bid=[a, b]\n",
    "v(a)"
   ]
  },
  {
   "cell_type": "code",
   "execution_count": 298,
   "metadata": {},
   "outputs": [
    {
     "data": {
      "text/plain": [
       "nan"
      ]
     },
     "execution_count": 298,
     "metadata": {},
     "output_type": "execute_result"
    }
   ],
   "source": [
    "grad_prob = grad(prob)\n",
    "\n",
    "bid[1] + prob(bid) / grad_prob(bid)[1]"
   ]
  },
  {
   "cell_type": "code",
   "execution_count": 299,
   "metadata": {},
   "outputs": [
    {
     "data": {
      "text/plain": [
       "0.0"
      ]
     },
     "execution_count": 299,
     "metadata": {},
     "output_type": "execute_result"
    }
   ],
   "source": [
    "prob(bid) "
   ]
  },
  {
   "cell_type": "code",
   "execution_count": 312,
   "metadata": {},
   "outputs": [
    {
     "name": "stderr",
     "output_type": "stream",
     "text": [
      "/Users/kailiao/opt/anaconda3/lib/python3.8/site-packages/autograd/tracer.py:48: RuntimeWarning: divide by zero encountered in log\n",
      "  return f_raw(*args, **kwargs)\n"
     ]
    },
    {
     "data": {
      "text/plain": [
       "[<matplotlib.lines.Line2D at 0x7f79f8093760>]"
      ]
     },
     "execution_count": 312,
     "metadata": {},
     "output_type": "execute_result"
    },
    {
     "data": {
      "image/png": "[encoded data removed]",
      "text/plain": [
       "<Figure size 432x288 with 1 Axes>"
      ]
     },
     "metadata": {
      "needs_background": "light"
     },
     "output_type": "display_data"
    }
   ],
   "source": [
    "agrids = np.arange(0, 500, 0.1)\n",
    "bid[0] = 0.1\n",
    "values = [prob(np.array([bid[0], b])) for b in agrids]\n",
    "plt.title('First order derivative on royalty of a bidder\\'s value for the contract')\n",
    "\n",
    "plt.xlabel('Royalty')\n",
    "plt.ylabel('Value')\n",
    "plt.plot(agrids, values)\n"
   ]
  },
  {
   "cell_type": "code",
   "execution_count": 202,
   "metadata": {},
   "outputs": [
    {
     "data": {
      "text/plain": [
       "0.6425229637823799"
      ]
     },
     "execution_count": 202,
     "metadata": {},
     "output_type": "execute_result"
    }
   ],
   "source": [
    "from autograd.scipy.stats import norm, chi2\n",
    "df = 55\n",
    "chi2.cdf(a + np.log(b)/10 - 0.2*np.log(theta2/theta1), 1)"
   ]
  },
  {
   "cell_type": "code",
   "execution_count": 201,
   "metadata": {},
   "outputs": [
    {
     "data": {
      "text/plain": [
       "0.5991464547107982"
      ]
     },
     "execution_count": 201,
     "metadata": {},
     "output_type": "execute_result"
    }
   ],
   "source": [
    "1/5*np.log(theta2/theta1)"
   ]
  },
  {
   "cell_type": "code",
   "execution_count": 197,
   "metadata": {},
   "outputs": [
    {
     "data": {
      "text/plain": [
       "1.4458835614025543"
      ]
     },
     "execution_count": 197,
     "metadata": {},
     "output_type": "execute_result"
    }
   ],
   "source": []
  },
  {
   "cell_type": "code",
   "execution_count": 1,
   "metadata": {},
   "outputs": [],
   "source": [
    "\n"
   ]
  },
  {
   "cell_type": "code",
   "execution_count": null,
   "metadata": {},
   "outputs": [],
   "source": []
  }
 ],
 "metadata": {
  "kernelspec": {
   "display_name": "Python 3.8.8 ('base')",
   "language": "python",
   "name": "python3"
  },
  "language_info": {
   "codemirror_mode": {
    "name": "ipython",
    "version": 3
   },
   "file_extension": ".py",
   "mimetype": "text/x-python",
   "name": "python",
   "nbconvert_exporter": "python",
   "pygments_lexer": "ipython3",
   "version": "3.8.8"
  },
  "orig_nbformat": 4,
  "vscode": {
   "interpreter": {
    "hash": "5bdec5f8e3354d0a62520c9c0e6b1fb491b129cdeccb8985ae40b7b1fd334666"
   }
  }
 },
 "nbformat": 4,
 "nbformat_minor": 2
}
