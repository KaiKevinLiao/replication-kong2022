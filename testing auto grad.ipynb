{
 "cells": [
  {
   "cell_type": "code",
   "execution_count": 1,
   "metadata": {},
   "outputs": [],
   "source": [
    "try:\n",
    "    from copulas.multivariate import GaussianMultivariate\n",
    "except:\n",
    "    %pip install copulas\n",
    "    from copulas.multivariate import GaussianMultivariate\n",
    "\n",
    "try:\n",
    "    import autograd.numpy as np  # Thinly-wrapped numpy\n",
    "    from autograd import grad    # The only autograd function you may ever need\n",
    "    from autograd.scipy.stats import norm, chi2\n",
    "except:\n",
    "    %pip install autograd\n",
    "    import autograd.numpy as np  # Thinly-wrapped numpy\n",
    "    from autograd import grad    # The only autograd function you may ever need\n",
    "    from autograd.scipy.stats import norm, chi2\n",
    "\n",
    "import pandas as pd\n",
    "import matplotlib.pyplot as plt\n",
    "from turtle import color\n",
    "import math\n",
    "from sklearn.preprocessing import QuantileTransformer\n",
    "from scipy.optimize import minimize, fsolve\n",
    "import seaborn as sns\n",
    "import warnings\n",
    "warnings.filterwarnings(\"ignore\")"
   ]
  },
  {
   "cell_type": "code",
   "execution_count": 11,
   "metadata": {},
   "outputs": [],
   "source": [
    "def V(params):\n",
    "    theta1, theta2, r, t, p, sigma, a = params\n",
    "    x = (np.log((1-a) * p * theta1/theta2) + sigma**2 * t / 2) / (sigma * np.sqrt(t))\n",
    "    v = np.exp(-r*t) * ( (1-a)*p*theta1*norm.cdf(x) + sigma**2 * t / 2 - theta2*norm.cdf(x - sigma * np.sqrt(t)))\n",
    "    return v\n",
    "\n",
    "\n",
    "# gradient by autograd    \n",
    "grad_V = grad(V)"
   ]
  },
  {
   "cell_type": "code",
   "execution_count": 14,
   "metadata": {},
   "outputs": [],
   "source": [
    "filename = 'Data_for_gchoice.csv';\n",
    "GOV = pd.read_csv(filename)\n",
    "GOV_SUB = GOV[['win', 'diffr', 'lndiffc', 'index']]\n",
    "GOV_SUB.head(5)\n",
    "qt = QuantileTransformer()\n",
    "\n",
    "GOV_X = GOV_SUB[['diffr', 'lndiffc']]\n",
    "# standization of the data\n",
    "GOV_STD = qt.fit_transform(GOV_X)"
   ]
  },
  {
   "cell_type": "code",
   "execution_count": 15,
   "metadata": {},
   "outputs": [
    {
     "ename": "SyntaxError",
     "evalue": "unexpected EOF while parsing (<ipython-input-15-a58a4a822c6c>, line 10)",
     "output_type": "error",
     "traceback": [
      "\u001b[0;36m  File \u001b[0;32m\"<ipython-input-15-a58a4a822c6c>\"\u001b[0;36m, line \u001b[0;32m10\u001b[0m\n\u001b[0;31m    def bidder_foc(a, b, a0, b0):\u001b[0m\n\u001b[0m                                 ^\u001b[0m\n\u001b[0;31mSyntaxError\u001b[0m\u001b[0;31m:\u001b[0m unexpected EOF while parsing\n"
     ]
    }
   ],
   "source": [
    "def gchoice(a, b, a0, b0):\n",
    "    lnb = np.log(b)\n",
    "    lnb0 = np.log(b0)\n",
    "    diffa = a - a0\n",
    "    diffb = lnb - lnb0\n",
    "    dcn = qt.transform(np.array([diffa, diffb]).reshape(1,2))[:,0]\n",
    "    drn = qt.transform(np.array([diffa, diffb]).reshape(1,2))[:,1]\n",
    "    return gchoice_fun(dcn, drn, index = 0.5)\n",
    "\n",
    "def bidder_foc(a, b, a0, b0):"
   ]
  },
  {
   "cell_type": "code",
   "execution_count": null,
   "metadata": {},
   "outputs": [],
   "source": []
  }
 ],
 "metadata": {
  "kernelspec": {
   "display_name": "Python 3.8.8 ('base')",
   "language": "python",
   "name": "python3"
  },
  "language_info": {
   "codemirror_mode": {
    "name": "ipython",
    "version": 3
   },
   "file_extension": ".py",
   "mimetype": "text/x-python",
   "name": "python",
   "nbconvert_exporter": "python",
   "pygments_lexer": "ipython3",
   "version": "3.8.8"
  },
  "orig_nbformat": 4,
  "vscode": {
   "interpreter": {
    "hash": "5bdec5f8e3354d0a62520c9c0e6b1fb491b129cdeccb8985ae40b7b1fd334666"
   }
  }
 },
 "nbformat": 4,
 "nbformat_minor": 2
}
